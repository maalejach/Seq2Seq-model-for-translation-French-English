{
 "cells": [
  {
   "cell_type": "code",
   "execution_count": 3,
   "metadata": {
    "id": "RS9HU1St12OE"
   },
   "outputs": [],
   "source": [
    "import torch\n",
    "import torch.nn as nn\n",
    "import torch.optim as optim\n",
    "import torch.nn.functional as F\n",
    "\n",
    "from torchtext.datasets import TranslationDataset\n",
    "from torchtext.data import Field, BucketIterator\n",
    "\n",
    "import spacy\n",
    "import numpy as np\n",
    "import re \n",
    "import matplotlib.pyplot as plt\n",
    "import matplotlib.ticker as ticker\n",
    "import random\n",
    "import math\n",
    "import time"
   ]
  },
  {
   "cell_type": "code",
   "execution_count": 4,
   "metadata": {},
   "outputs": [
    {
     "name": "stdout",
     "output_type": "stream",
     "text": [
      "Collecting sacrebleu\n",
      "\u001b[?25l  Downloading https://files.pythonhosted.org/packages/6e/9d/9846507837ca50ae20917f59d83b79246b8313bd19d4f5bf575ecb98132b/sacrebleu-1.4.9-py3-none-any.whl (60kB)\n",
      "\u001b[K    100% |████████████████████████████████| 61kB 3.8MB/s ta 0:00:01\n",
      "\u001b[?25hCollecting portalocker (from sacrebleu)\n",
      "  Downloading https://files.pythonhosted.org/packages/53/84/7b3146ec6378d28abc73ab484f09f47dfa008ad6f03f33d90a369f880e25/portalocker-1.7.0-py2.py3-none-any.whl\n",
      "Requirement already satisfied: typing in /miniconda3/lib/python3.6/site-packages (from sacrebleu) (3.6.6)\n",
      "Installing collected packages: portalocker, sacrebleu\n",
      "Successfully installed portalocker-1.7.0 sacrebleu-1.4.9\n"
     ]
    }
   ],
   "source": [
    "!pip install sacrebleu"
   ]
  },
  {
   "cell_type": "code",
   "execution_count": 5,
   "metadata": {
    "id": "-VsFByhf2mnq",
    "outputId": "0ca70cf0-7ac9-40ac-e1ff-66b5b491ad47"
   },
   "outputs": [
    {
     "name": "stdout",
     "output_type": "stream",
     "text": [
      "Requirement already satisfied: en_core_web_sm==2.0.0 from https://github.com/explosion/spacy-models/releases/download/en_core_web_sm-2.0.0/en_core_web_sm-2.0.0.tar.gz#egg=en_core_web_sm==2.0.0 in /miniconda3/lib/python3.6/site-packages (2.0.0)\n",
      "\n",
      "\u001b[93m    Linking successful\u001b[0m\n",
      "    /miniconda3/lib/python3.6/site-packages/en_core_web_sm -->\n",
      "    /miniconda3/lib/python3.6/site-packages/spacy/data/en\n",
      "\n",
      "    You can now load the model via spacy.load('en')\n",
      "\n"
     ]
    }
   ],
   "source": [
    "!python -m spacy download en"
   ]
  },
  {
   "cell_type": "code",
   "execution_count": 6,
   "metadata": {
    "id": "XL6Yn3St2yaD",
    "outputId": "1e108298-1b3f-49bd-adbd-b39f0b898193"
   },
   "outputs": [
    {
     "name": "stdout",
     "output_type": "stream",
     "text": [
      "Requirement already satisfied: fr_core_news_sm==2.0.0 from https://github.com/explosion/spacy-models/releases/download/fr_core_news_sm-2.0.0/fr_core_news_sm-2.0.0.tar.gz#egg=fr_core_news_sm==2.0.0 in /miniconda3/lib/python3.6/site-packages (2.0.0)\n",
      "\n",
      "\u001b[93m    Linking successful\u001b[0m\n",
      "    /miniconda3/lib/python3.6/site-packages/fr_core_news_sm -->\n",
      "    /miniconda3/lib/python3.6/site-packages/spacy/data/fr\n",
      "\n",
      "    You can now load the model via spacy.load('fr')\n",
      "\n"
     ]
    }
   ],
   "source": [
    "!python3 -m spacy download fr"
   ]
  },
  {
   "cell_type": "code",
   "execution_count": 7,
   "metadata": {},
   "outputs": [],
   "source": [
    "SRC = Field(tokenize = \"spacy\",\n",
    "            tokenizer_language=\"en\",\n",
    "            init_token = '<sos>',\n",
    "            eos_token = '<eos>',\n",
    "            lower = True)\n",
    "\n",
    "TRG = Field(tokenize = \"spacy\",\n",
    "            tokenizer_language=\"fr\",\n",
    "            init_token = '<sos>',\n",
    "            eos_token = '<eos>',\n",
    "            lower = True)"
   ]
  },
  {
   "cell_type": "code",
   "execution_count": 8,
   "metadata": {
    "id": "NKgDaXRu3-Q3"
   },
   "outputs": [],
   "source": [
    "import os\n",
    "import xml.etree.ElementTree as ET\n",
    "import glob\n",
    "import io\n",
    "import codecs\n"
   ]
  },
  {
   "cell_type": "code",
   "execution_count": 41,
   "metadata": {
    "id": "WXGfhTll2WRa"
   },
   "outputs": [],
   "source": [
    "# class modified from the original code in pytorch to be able to load the 2014 IWSLT dataset\n",
    "class IWSLT(TranslationDataset):\n",
    "    \"\"\"The IWSLT 2014 TED talk translation task\"\"\"\n",
    "\n",
    "    base_url = 'https://wit3.fbk.eu/archive/2014-01//texts/{}/{}/{}.tgz'\n",
    "    name = 'iwslt'\n",
    "    base_dirname = '{}-{}'\n",
    "\n",
    "    @classmethod\n",
    "    def splits(cls, exts, fields, root='.data',\n",
    "               train='train', validation='IWSLT14.TED.dev2010',\n",
    "               test='IWSLT14.TED.tst2011', max_len=20, **kwargs):\n",
    "        \"\"\"Create dataset objects for splits of the IWSLT dataset.\n",
    "        Arguments:\n",
    "            exts: A tuple containing the extension to path for each language.\n",
    "            fields: A tuple containing the fields that will be used for data\n",
    "                in each language.\n",
    "            root: Root dataset storage directory. Default is '.data'.\n",
    "            train: The prefix of the train data. Default: 'train'.\n",
    "            validation: The prefix of the validation data. Default: 'val'.\n",
    "            test: The prefix of the test data. Default: 'test'.\n",
    "            Remaining keyword arguments: Passed to the splits method of\n",
    "                Dataset.\n",
    "        \"\"\"\n",
    "        cls.dirname = cls.base_dirname.format(exts[0][1:], exts[1][1:])\n",
    "        cls.urls = [cls.base_url.format(exts[0][1:], exts[1][1:], cls.dirname)]\n",
    "        check = os.path.join(root, cls.name, cls.dirname)\n",
    "        path = cls.download(root, check=check)\n",
    "\n",
    "        train = '.'.join([train, cls.dirname])\n",
    "        validation = '.'.join([validation, cls.dirname])\n",
    "        if test is not None:\n",
    "            test = '.'.join([test, cls.dirname])\n",
    "\n",
    "        if not os.path.exists(os.path.join(path, train) + exts[0]):\n",
    "            cls.clean(path, exts=exts, max_len=max_len)\n",
    "\n",
    "        train_data = None if train is None else cls(\n",
    "            os.path.join(path, train), exts, fields, **kwargs)\n",
    "        val_data = None if validation is None else cls(\n",
    "            os.path.join(path, validation), exts, fields, **kwargs)\n",
    "        test_data = None if test is None else cls(\n",
    "            os.path.join(path, test), exts, fields, **kwargs)\n",
    "        return tuple(d for d in (train_data, val_data, test_data)\n",
    "                     if d is not None)\n",
    "\n",
    "    @staticmethod\n",
    "    def clean(path, exts, max_len=20, max_lines=200000, lower=True, remove_special_caracters=True):\n",
    "        for f_xml in glob.iglob(os.path.join(path, '*.xml')):\n",
    "            print(f_xml)\n",
    "            f_txt = os.path.splitext(f_xml)[0]\n",
    "            with codecs.open(f_txt, mode='w', encoding='utf-8') as fd_txt:\n",
    "                root = ET.parse(f_xml).getroot()[0]\n",
    "                for doc in root.findall('doc'):\n",
    "                    for e in doc.findall('seg'):\n",
    "                        s = e.text\n",
    "                        if lower:\n",
    "                            s = s.lower()\n",
    "                        if remove_special_caracters:\n",
    "                            s = re.sub(r\"([.!?])\", r\" \\1\", s)\n",
    "                            s = re.sub(r\"[\\W+\\d+]+\", r\" \", s)\n",
    "                        fd_txt.write(s.strip() + '\\n')\n",
    "\n",
    "        xml_tags = ['<url', '<keywords', '<talkid', '<description',\n",
    "                    '<reviewer', '<translator', '<title', '<speaker']\n",
    "        lang_src = exts[0][1:]\n",
    "        lang_trg = exts[1][1:]\n",
    "        l_lines = []\n",
    "        train_files = [os.path.join(path, 'train.tags.en-fr.fr'),os.path.join(path, 'train.tags.en-fr.en')]\n",
    "        for nb_f,f_orig in enumerate(train_files):\n",
    "            print(f_orig)\n",
    "            lang = f_orig.split(\".\")[-1]\n",
    "            print(\"lang :\", lang)\n",
    "            f_txt = f_orig.replace('.tags', '')\n",
    "            with codecs.open(f_txt, mode='w', encoding='utf-8') as fd_txt, \\\n",
    "                    io.open(f_orig, mode='r', encoding='utf-8') as fd_orig:\n",
    "                inc=0\n",
    "                for nb_l,l in enumerate(fd_orig):\n",
    "                    if inc>max_lines:\n",
    "                        break;\n",
    "                    \n",
    "                    if nb_f==0:\n",
    "                        if len(l.split(\" \"))<=max_len:\n",
    "                            if not any(tag in l for tag in xml_tags):\n",
    "                                s = l\n",
    "                                if lower:\n",
    "                                    s = s.lower()\n",
    "                                if remove_special_caracters:\n",
    "                                    s = re.sub(r\"([.!?])\", r\" \\1\", s)\n",
    "                                    s = re.sub(r\"[\\W+\\d+]+\", r\" \", s)\n",
    "                                fd_txt.write(s.strip() + '\\n')\n",
    "                                inc+=1\n",
    "                                l_lines.append(nb_l)\n",
    "                    else:\n",
    "                        if nb_l in l_lines:\n",
    "                            s = l\n",
    "                            if lower:\n",
    "                                s = s.lower()\n",
    "                            if remove_special_caracters:\n",
    "                                s = re.sub(r\"([.!?])\", r\" \\1\", s)\n",
    "                                s = re.sub(r\"[\\W+\\d+]+\", r\" \", s)\n",
    "                            fd_txt.write(s.strip() + '\\n')\n",
    "                            inc+=1\n",
    "                        \n"
   ]
  },
  {
   "cell_type": "code",
   "execution_count": 42,
   "metadata": {
    "id": "8ToLIjW-12O9",
    "outputId": "b7b6bb7f-d971-47f8-bcb0-454ff5b43d86"
   },
   "outputs": [
    {
     "name": "stdout",
     "output_type": "stream",
     "text": [
      "downloading en-fr.tgz\n"
     ]
    },
    {
     "name": "stderr",
     "output_type": "stream",
     "text": [
      "en-fr.tgz: 100%|██████████| 20.9M/20.9M [00:03<00:00, 6.82MB/s]\n"
     ]
    },
    {
     "name": "stdout",
     "output_type": "stream",
     "text": [
      ".data/iwslt/en-fr/IWSLT14.TED.tst2011.en-fr.fr.xml\n",
      ".data/iwslt/en-fr/IWSLT14.TED.tst2010.en-fr.en.xml\n",
      ".data/iwslt/en-fr/IWSLT14.TED.tst2010.en-fr.fr.xml\n",
      ".data/iwslt/en-fr/IWSLT14.TED.tst2011.en-fr.en.xml\n",
      ".data/iwslt/en-fr/IWSLT14.TED.dev2010.en-fr.en.xml\n",
      ".data/iwslt/en-fr/IWSLT14.TED.tst2012.en-fr.fr.xml\n",
      ".data/iwslt/en-fr/IWSLT14.TED.dev2010.en-fr.fr.xml\n",
      ".data/iwslt/en-fr/IWSLT14.TED.tst2012.en-fr.en.xml\n",
      ".data/iwslt/en-fr/train.tags.en-fr.fr\n",
      "lang : fr\n",
      ".data/iwslt/en-fr/train.tags.en-fr.en\n",
      "lang : en\n"
     ]
    }
   ],
   "source": [
    "train_data, valid_data, test_data = IWSLT.splits(exts = ('.en', '.fr'), \n",
    "                                                    fields = (SRC, TRG), max_len=25)"
   ]
  },
  {
   "cell_type": "code",
   "execution_count": 43,
   "metadata": {
    "id": "_wRN9mLg5qFL",
    "outputId": "a25b77c8-35c5-4acc-94df-5ab61f843f23"
   },
   "outputs": [
    {
     "name": "stdout",
     "output_type": "stream",
     "text": [
      "length train : 141119\n",
      "length val : 887\n",
      "length test : 818\n"
     ]
    }
   ],
   "source": [
    "print(\"length train :\",len(train_data))\n",
    "print(\"length val :\",len(valid_data))\n",
    "print(\"length test :\",len(test_data))\n"
   ]
  },
  {
   "cell_type": "code",
   "execution_count": 44,
   "metadata": {},
   "outputs": [
    {
     "name": "stdout",
     "output_type": "stream",
     "text": [
      "src = and if you zoom in times you ll see it looks like a rug\n",
      "trg = et si vous zoomez fois vous verrez que ça ressemble à un tapis\n"
     ]
    }
   ],
   "source": [
    "example_idx = 12390\n",
    "\n",
    "src = vars(train_data.examples[example_idx])['src']\n",
    "trg = vars(train_data.examples[example_idx])['trg']\n",
    "\n",
    "print(f'src = {\" \".join(src)}')\n",
    "print(f'trg = {\" \".join(trg)}')"
   ]
  },
  {
   "cell_type": "code",
   "execution_count": 45,
   "metadata": {},
   "outputs": [
    {
     "name": "stdout",
     "output_type": "stream",
     "text": [
      "src = you ve seen recently corn to ethanol is just a bad experiment\n",
      "trg = vous avez pu voir récemment que la transformation du maïs en éthanol n est rien qu une mauvaise expérience\n"
     ]
    }
   ],
   "source": [
    "example_idx = 500\n",
    "\n",
    "src = vars(valid_data.examples[example_idx])['src']\n",
    "trg = vars(valid_data.examples[example_idx])['trg']\n",
    "\n",
    "print(f'src = {\" \".join(src)}')\n",
    "print(f'trg = {\" \".join(trg)}')"
   ]
  },
  {
   "cell_type": "markdown",
   "metadata": {
    "id": "SQZlbVVK12PT"
   },
   "source": [
    "Build the vocabulary."
   ]
  },
  {
   "cell_type": "code",
   "execution_count": 58,
   "metadata": {
    "id": "_1AlENd612PT"
   },
   "outputs": [],
   "source": [
    "SRC.build_vocab(train_data, min_freq = 2)\n",
    "TRG.build_vocab(train_data, min_freq = 2)"
   ]
  },
  {
   "cell_type": "markdown",
   "metadata": {
    "id": "ang3dCJc12PX"
   },
   "source": [
    "Define the device."
   ]
  },
  {
   "cell_type": "code",
   "execution_count": 59,
   "metadata": {
    "id": "QZNJZ6RL12PY"
   },
   "outputs": [],
   "source": [
    "device = torch.device('cuda' if torch.cuda.is_available() else 'cpu')"
   ]
  },
  {
   "cell_type": "markdown",
   "metadata": {
    "id": "Azqpf12k12Pb"
   },
   "source": [
    "Create the iterators."
   ]
  },
  {
   "cell_type": "code",
   "execution_count": 60,
   "metadata": {
    "id": "hFdNfQfn12Pf"
   },
   "outputs": [],
   "source": [
    "BATCH_SIZE = 256\n",
    "\n",
    "train_iterator, valid_iterator, test_iterator = BucketIterator.splits(\n",
    "    (train_data, valid_data, test_data), \n",
    "    batch_size = BATCH_SIZE,\n",
    "    device = device)"
   ]
  },
  {
   "cell_type": "markdown",
   "metadata": {
    "id": "E27I3lSA12Pl"
   },
   "source": [
    "## Building the Seq2Seq Model\n",
    "\n",
    "### Encoder\n",
    "\n",
    "First, we'll build the encoder. Similar to the previous model, we only use a single layer GRU, however we now use a *bidirectional RNN*. With a bidirectional RNN, we have two RNNs in each layer. A *forward RNN* going over the embedded sentence from left to right (shown below in green), and a *backward RNN* going over the embedded sentence from right to left (teal). All we need to do in code is set `bidirectional = True` and then pass the embedded sentence to the RNN as before. "
   ]
  },
  {
   "cell_type": "code",
   "execution_count": 61,
   "metadata": {
    "id": "8McXpO1Y12Pm"
   },
   "outputs": [],
   "source": [
    "class Encoder(nn.Module):\n",
    "    def __init__(self, input_dim, emb_dim, enc_hid_dim, dec_hid_dim, dropout):\n",
    "        super().__init__()\n",
    "        \n",
    "        self.embedding = nn.Embedding(input_dim, emb_dim)\n",
    "        \n",
    "        self.rnn = nn.GRU(emb_dim, enc_hid_dim, bidirectional = True)\n",
    "        \n",
    "        self.fc = nn.Linear(enc_hid_dim * 2, dec_hid_dim)\n",
    "        \n",
    "        self.dropout = nn.Dropout(dropout)\n",
    "        \n",
    "    def forward(self, src):\n",
    "        \n",
    "        #src = [src len, batch size]\n",
    "        \n",
    "        embedded = self.dropout(self.embedding(src))\n",
    "        \n",
    "        #embedded = [src len, batch size, emb dim]\n",
    "        \n",
    "        outputs, hidden = self.rnn(embedded)\n",
    "                \n",
    "        #outputs = [src len, batch size, hid dim * num directions]\n",
    "        #hidden = [n layers * num directions, batch size, hid dim]\n",
    "        \n",
    "        #hidden is stacked [forward_1, backward_1, forward_2, backward_2, ...]\n",
    "        #outputs are always from the last layer\n",
    "        \n",
    "        #hidden [-2, :, : ] is the last of the forwards RNN \n",
    "        #hidden [-1, :, : ] is the last of the backwards RNN\n",
    "        \n",
    "        #initial decoder hidden is final hidden state of the forwards and backwards \n",
    "        #  encoder RNNs fed through a linear layer\n",
    "        hidden = torch.tanh(self.fc(torch.cat((hidden[-2,:,:], hidden[-1,:,:]), dim = 1)))\n",
    "        \n",
    "        #outputs = [src len, batch size, enc hid dim * 2]\n",
    "        #hidden = [batch size, dec hid dim]\n",
    "        \n",
    "        return outputs, hidden"
   ]
  },
  {
   "cell_type": "markdown",
   "metadata": {
    "id": "DqGZA1Q212Pr"
   },
   "source": [
    "### Attention\n",
    "\n",
    "Next up is the attention layer. This will take in the previous hidden state of the decoder, $s_{t-1}$, and all of the stacked forward and backward hidden states from the encoder, $H$. The layer will output an attention vector, $a_t$, that is the length of the source sentence, each element is between 0 and 1 and the entire vector sums to 1."
   ]
  },
  {
   "cell_type": "code",
   "execution_count": 62,
   "metadata": {
    "id": "xqmZa7ZV12Pr"
   },
   "outputs": [],
   "source": [
    "class Attention(nn.Module):\n",
    "    def __init__(self, enc_hid_dim, dec_hid_dim):\n",
    "        super().__init__()\n",
    "        \n",
    "        self.attn = nn.Linear((enc_hid_dim * 2) + dec_hid_dim, dec_hid_dim)\n",
    "        self.v = nn.Linear(dec_hid_dim, 1, bias = False)\n",
    "        \n",
    "    def forward(self, hidden, encoder_outputs):\n",
    "        \n",
    "        #hidden = [batch size, dec hid dim]\n",
    "        #encoder_outputs = [src len, batch size, enc hid dim * 2]\n",
    "        \n",
    "        batch_size = encoder_outputs.shape[1]\n",
    "        src_len = encoder_outputs.shape[0]\n",
    "        \n",
    "        #repeat decoder hidden state src_len times\n",
    "        hidden = hidden.unsqueeze(1).repeat(1, src_len, 1)\n",
    "        \n",
    "        encoder_outputs = encoder_outputs.permute(1, 0, 2)\n",
    "        \n",
    "        #hidden = [batch size, src len, dec hid dim]\n",
    "        #encoder_outputs = [batch size, src len, enc hid dim * 2]\n",
    "        \n",
    "        energy = torch.tanh(self.attn(torch.cat((hidden, encoder_outputs), dim = 2))) \n",
    "        \n",
    "        #energy = [batch size, src len, dec hid dim]\n",
    "\n",
    "        attention = self.v(energy).squeeze(2)\n",
    "        \n",
    "        #attention= [batch size, src len]\n",
    "        \n",
    "        return F.softmax(attention, dim=1)"
   ]
  },
  {
   "cell_type": "markdown",
   "metadata": {
    "id": "m245FDcH12Pw"
   },
   "source": [
    "### Decoder"
   ]
  },
  {
   "cell_type": "code",
   "execution_count": 63,
   "metadata": {
    "id": "4_PhMCD412Px"
   },
   "outputs": [],
   "source": [
    "class Decoder(nn.Module):\n",
    "    def __init__(self, output_dim, emb_dim, enc_hid_dim, dec_hid_dim, dropout, attention):\n",
    "        super().__init__()\n",
    "\n",
    "        self.output_dim = output_dim\n",
    "        self.attention = attention\n",
    "        \n",
    "        self.embedding = nn.Embedding(output_dim, emb_dim)\n",
    "        \n",
    "        self.rnn = nn.GRU((enc_hid_dim * 2) + emb_dim, dec_hid_dim)\n",
    "        \n",
    "        self.fc_out = nn.Linear((enc_hid_dim * 2) + dec_hid_dim + emb_dim, output_dim)\n",
    "        \n",
    "        self.dropout = nn.Dropout(dropout)\n",
    "        \n",
    "    def forward(self, input, hidden, encoder_outputs):\n",
    "             \n",
    "        #input = [batch size]\n",
    "        #hidden = [batch size, dec hid dim]\n",
    "        #encoder_outputs = [src len, batch size, enc hid dim * 2]\n",
    "        \n",
    "        input = input.unsqueeze(0)\n",
    "        \n",
    "        #input = [1, batch size]\n",
    "        \n",
    "        embedded = self.dropout(self.embedding(input))\n",
    "        \n",
    "        #embedded = [1, batch size, emb dim]\n",
    "        \n",
    "        a = self.attention(hidden, encoder_outputs)\n",
    "                \n",
    "        #a = [batch size, src len]\n",
    "        \n",
    "        a = a.unsqueeze(1)\n",
    "        \n",
    "        #a = [batch size, 1, src len]\n",
    "        \n",
    "        encoder_outputs = encoder_outputs.permute(1, 0, 2)\n",
    "        \n",
    "        #encoder_outputs = [batch size, src len, enc hid dim * 2]\n",
    "        \n",
    "        weighted = torch.bmm(a, encoder_outputs)\n",
    "        \n",
    "        #weighted = [batch size, 1, enc hid dim * 2]\n",
    "        \n",
    "        weighted = weighted.permute(1, 0, 2)\n",
    "        \n",
    "        #weighted = [1, batch size, enc hid dim * 2]\n",
    "        \n",
    "        rnn_input = torch.cat((embedded, weighted), dim = 2)\n",
    "        \n",
    "        #rnn_input = [1, batch size, (enc hid dim * 2) + emb dim]\n",
    "            \n",
    "        output, hidden = self.rnn(rnn_input, hidden.unsqueeze(0))\n",
    "        \n",
    "        #output = [seq len, batch size, dec hid dim * n directions]\n",
    "        #hidden = [n layers * n directions, batch size, dec hid dim]\n",
    "        \n",
    "        #seq len, n layers and n directions will always be 1 in this decoder, therefore:\n",
    "        #output = [1, batch size, dec hid dim]\n",
    "        #hidden = [1, batch size, dec hid dim]\n",
    "        #this also means that output == hidden\n",
    "        assert (output == hidden).all()\n",
    "        \n",
    "        embedded = embedded.squeeze(0)\n",
    "        output = output.squeeze(0)\n",
    "        weighted = weighted.squeeze(0)\n",
    "        \n",
    "        prediction = self.fc_out(torch.cat((output, weighted, embedded), dim = 1))\n",
    "        \n",
    "        #prediction = [batch size, output dim]\n",
    "        \n",
    "        return prediction, hidden.squeeze(0), a.squeeze(1)"
   ]
  },
  {
   "cell_type": "markdown",
   "metadata": {
    "id": "-TFnQGYm12P3"
   },
   "source": [
    "### Seq2Seq\n"
   ]
  },
  {
   "cell_type": "code",
   "execution_count": 64,
   "metadata": {
    "id": "3QL231FP12P4"
   },
   "outputs": [],
   "source": [
    "class Seq2Seq(nn.Module):\n",
    "    def __init__(self, encoder, decoder, device):\n",
    "        super().__init__()\n",
    "        \n",
    "        self.encoder = encoder\n",
    "        self.decoder = decoder\n",
    "        self.device = device\n",
    "        \n",
    "    def forward(self, src, trg, teacher_forcing_ratio = 0.5):\n",
    "        \n",
    "        #src = [src len, batch size]\n",
    "        #trg = [trg len, batch size]\n",
    "        #teacher_forcing_ratio is probability to use teacher forcing\n",
    "        #e.g. if teacher_forcing_ratio is 0.75 we use teacher forcing 75% of the time\n",
    "        \n",
    "        batch_size = src.shape[1]\n",
    "        trg_len = trg.shape[0]\n",
    "        trg_vocab_size = self.decoder.output_dim\n",
    "        \n",
    "        #tensor to store decoder outputs\n",
    "        outputs = torch.zeros(trg_len, batch_size, trg_vocab_size).to(self.device)\n",
    "        \n",
    "        #encoder_outputs is all hidden states of the input sequence, back and forwards\n",
    "        #hidden is the final forward and backward hidden states, passed through a linear layer\n",
    "        encoder_outputs, hidden = self.encoder(src)\n",
    "                \n",
    "        #first input to the decoder is the <sos> tokens\n",
    "        input = trg[0,:]\n",
    "        \n",
    "        for t in range(1, trg_len):\n",
    "            \n",
    "            #insert input token embedding, previous hidden state and all encoder hidden states\n",
    "            #receive output tensor (predictions) and new hidden state\n",
    "            output, hidden, _ = self.decoder(input, hidden, encoder_outputs)\n",
    "            \n",
    "            #place predictions in a tensor holding predictions for each token\n",
    "            outputs[t] = output\n",
    "            \n",
    "            #decide if we are going to use teacher forcing or not\n",
    "            teacher_force = random.random() < teacher_forcing_ratio\n",
    "            \n",
    "            #get the highest predicted token from our predictions\n",
    "            top1 = output.argmax(1) \n",
    "            \n",
    "            #if teacher forcing, use actual next token as next input\n",
    "            #if not, use predicted token\n",
    "            input = trg[t] if teacher_force else top1\n",
    "\n",
    "        return outputs"
   ]
  },
  {
   "cell_type": "markdown",
   "metadata": {
    "id": "tW47J7m812P7"
   },
   "source": [
    "## Training the Seq2Seq Model\n",
    "\n",
    "We initialise our parameters, encoder, decoder and seq2seq model (placing it on the GPU if we have one). "
   ]
  },
  {
   "cell_type": "code",
   "execution_count": 98,
   "metadata": {
    "id": "0rGoBD7R12P8"
   },
   "outputs": [],
   "source": [
    "INPUT_DIM = len(SRC.vocab)\n",
    "OUTPUT_DIM = len(TRG.vocab)\n",
    "ENC_EMB_DIM = 128\n",
    "DEC_EMB_DIM = 128\n",
    "ENC_HID_DIM = 256\n",
    "DEC_HID_DIM = 256\n",
    "ENC_DROPOUT = 0.5\n",
    "DEC_DROPOUT = 0.5\n",
    "\n",
    "attn = Attention(ENC_HID_DIM, DEC_HID_DIM)\n",
    "enc = Encoder(INPUT_DIM, ENC_EMB_DIM, ENC_HID_DIM, DEC_HID_DIM, ENC_DROPOUT)\n",
    "dec = Decoder(OUTPUT_DIM, DEC_EMB_DIM, ENC_HID_DIM, DEC_HID_DIM, DEC_DROPOUT, attn)\n",
    "\n",
    "model = Seq2Seq(enc, dec, device).to(device)"
   ]
  },
  {
   "cell_type": "markdown",
   "metadata": {
    "id": "2aA9JfRc12QQ"
   },
   "source": [
    "We use a simplified version of the weight initialization scheme used in the paper. Here, we will initialize all biases to zero and all weights from $\\mathcal{N}(0, 0.01)$."
   ]
  },
  {
   "cell_type": "code",
   "execution_count": 99,
   "metadata": {
    "id": "qu9HS84l12QR",
    "outputId": "d672d926-97e4-439b-a763-f232006722e1"
   },
   "outputs": [
    {
     "data": {
      "text/plain": [
       "Seq2Seq(\n",
       "  (encoder): Encoder(\n",
       "    (embedding): Embedding(23342, 128)\n",
       "    (rnn): GRU(128, 256, bidirectional=True)\n",
       "    (fc): Linear(in_features=512, out_features=256, bias=True)\n",
       "    (dropout): Dropout(p=0.5, inplace=False)\n",
       "  )\n",
       "  (decoder): Decoder(\n",
       "    (attention): Attention(\n",
       "      (attn): Linear(in_features=768, out_features=256, bias=True)\n",
       "      (v): Linear(in_features=256, out_features=1, bias=False)\n",
       "    )\n",
       "    (embedding): Embedding(29362, 128)\n",
       "    (rnn): GRU(640, 256)\n",
       "    (fc_out): Linear(in_features=896, out_features=29362, bias=True)\n",
       "    (dropout): Dropout(p=0.5, inplace=False)\n",
       "  )\n",
       ")"
      ]
     },
     "execution_count": 99,
     "metadata": {},
     "output_type": "execute_result"
    }
   ],
   "source": [
    "def init_weights(m):\n",
    "    for name, param in m.named_parameters():\n",
    "        if 'weight' in name:\n",
    "            nn.init.normal_(param.data, mean=0, std=0.01)\n",
    "        else:\n",
    "            nn.init.constant_(param.data, 0)\n",
    "            \n",
    "model.apply(init_weights)"
   ]
  },
  {
   "cell_type": "markdown",
   "metadata": {
    "id": "8vTISYkC12Qb"
   },
   "source": [
    "Calculate the number of parameters. We get an increase of almost 50% in the amount of parameters from the last model. "
   ]
  },
  {
   "cell_type": "code",
   "execution_count": 69,
   "metadata": {},
   "outputs": [
    {
     "name": "stdout",
     "output_type": "stream",
     "text": [
      "The model has 34,694,834 trainable parameters\n"
     ]
    }
   ],
   "source": [
    "def count_parameters(model):\n",
    "    return sum(p.numel() for p in model.parameters() if p.requires_grad)\n",
    "\n",
    "print(f'The model has {count_parameters(model):,} trainable parameters')"
   ]
  },
  {
   "cell_type": "markdown",
   "metadata": {
    "id": "HbCZO5El12Ql"
   },
   "source": [
    "We create an optimizer."
   ]
  },
  {
   "cell_type": "code",
   "execution_count": 70,
   "metadata": {
    "id": "1cCnl9tD12Qn"
   },
   "outputs": [],
   "source": [
    "optimizer = optim.Adam(model.parameters())"
   ]
  },
  {
   "cell_type": "markdown",
   "metadata": {
    "id": "7nYgQXWu12Qs"
   },
   "source": [
    "We initialize the loss function."
   ]
  },
  {
   "cell_type": "code",
   "execution_count": 71,
   "metadata": {
    "id": "LtVrozdL12Qs"
   },
   "outputs": [],
   "source": [
    "TRG_PAD_IDX = TRG.vocab.stoi[TRG.pad_token]\n",
    "\n",
    "criterion = nn.CrossEntropyLoss(ignore_index = TRG_PAD_IDX)"
   ]
  },
  {
   "cell_type": "markdown",
   "metadata": {
    "id": "IISMKUE912Qv"
   },
   "source": [
    "We then create the training loop..."
   ]
  },
  {
   "cell_type": "code",
   "execution_count": 72,
   "metadata": {
    "id": "0Y-EtT3h12Qw"
   },
   "outputs": [],
   "source": [
    "def train(model, iterator, optimizer, criterion, clip):\n",
    "    \n",
    "    model.train()\n",
    "    \n",
    "    epoch_loss = 0\n",
    "    \n",
    "    for i, batch in enumerate(iterator):\n",
    "        \n",
    "        src = batch.src\n",
    "        trg = batch.trg\n",
    "        \n",
    "        optimizer.zero_grad()\n",
    "        \n",
    "        output = model(src, trg)\n",
    "        \n",
    "        #trg = [trg len, batch size]\n",
    "        #output = [trg len, batch size, output dim]\n",
    "        \n",
    "        output_dim = output.shape[-1]\n",
    "        \n",
    "        output = output[1:].view(-1, output_dim)\n",
    "        trg = trg[1:].view(-1)\n",
    "        \n",
    "        #trg = [(trg len - 1) * batch size]\n",
    "        #output = [(trg len - 1) * batch size, output dim]\n",
    "        \n",
    "        loss = criterion(output, trg)\n",
    "        \n",
    "        loss.backward()\n",
    "        \n",
    "        torch.nn.utils.clip_grad_norm_(model.parameters(), clip)\n",
    "        \n",
    "        optimizer.step()\n",
    "        \n",
    "        epoch_loss += loss.item()\n",
    "        \n",
    "    return epoch_loss / len(iterator)"
   ]
  },
  {
   "cell_type": "markdown",
   "metadata": {
    "id": "Y2RwYodK12Q3"
   },
   "source": [
    "...and the evaluation loop, remembering to set the model to `eval` mode and turn off teaching forcing."
   ]
  },
  {
   "cell_type": "code",
   "execution_count": 73,
   "metadata": {
    "id": "cDn3pZYc12Q4"
   },
   "outputs": [],
   "source": [
    "def evaluate(model, iterator, criterion):\n",
    "    \n",
    "    model.eval()\n",
    "    \n",
    "    epoch_loss = 0\n",
    "    \n",
    "    with torch.no_grad():\n",
    "    \n",
    "        for i, batch in enumerate(iterator):\n",
    "\n",
    "            src = batch.src\n",
    "            trg = batch.trg\n",
    "\n",
    "            output = model(src, trg, 0) #turn off teacher forcing\n",
    "\n",
    "            #trg = [trg len, batch size]\n",
    "            #output = [trg len, batch size, output dim]\n",
    "\n",
    "            output_dim = output.shape[-1]\n",
    "            \n",
    "            output = output[1:].view(-1, output_dim)\n",
    "            trg = trg[1:].view(-1)\n",
    "\n",
    "            #trg = [(trg len - 1) * batch size]\n",
    "            #output = [(trg len - 1) * batch size, output dim]\n",
    "\n",
    "            loss = criterion(output, trg)\n",
    "\n",
    "            epoch_loss += loss.item()\n",
    "        \n",
    "    return epoch_loss / len(iterator)"
   ]
  },
  {
   "cell_type": "markdown",
   "metadata": {
    "id": "2TESvDWs12Q6"
   },
   "source": [
    "Finally, define a timing function."
   ]
  },
  {
   "cell_type": "code",
   "execution_count": 74,
   "metadata": {
    "id": "AiIzcQyZ12Q6"
   },
   "outputs": [],
   "source": [
    "def epoch_time(start_time, end_time):\n",
    "    elapsed_time = end_time - start_time\n",
    "    elapsed_mins = int(elapsed_time / 60)\n",
    "    elapsed_secs = int(elapsed_time - (elapsed_mins * 60))\n",
    "    return elapsed_mins, elapsed_secs"
   ]
  },
  {
   "cell_type": "markdown",
   "metadata": {
    "id": "RliGlleJ12RC"
   },
   "source": [
    "Then, we train our model, saving the parameters that give us the best validation loss."
   ]
  },
  {
   "cell_type": "code",
   "execution_count": 28,
   "metadata": {
    "id": "EkXycAi412RC",
    "outputId": "91440f0c-9343-4cd1-802f-be6be2517ebf"
   },
   "outputs": [
    {
     "name": "stdout",
     "output_type": "stream",
     "text": [
      "Epoch: 01 | Time: 10m 48s\n",
      "\tTrain Loss: 6.173 | Train PPL: 479.593\n",
      "\t Val. Loss: 6.428 |  Val. PPL: 618.851\n",
      "Epoch: 02 | Time: 10m 48s\n",
      "\tTrain Loss: 5.218 | Train PPL: 184.525\n",
      "\t Val. Loss: 5.900 |  Val. PPL: 364.955\n",
      "Epoch: 03 | Time: 10m 47s\n",
      "\tTrain Loss: 4.399 | Train PPL:  81.375\n",
      "\t Val. Loss: 5.719 |  Val. PPL: 304.658\n",
      "Epoch: 04 | Time: 10m 49s\n",
      "\tTrain Loss: 3.829 | Train PPL:  46.028\n",
      "\t Val. Loss: 5.598 |  Val. PPL: 269.975\n",
      "Epoch: 05 | Time: 10m 46s\n",
      "\tTrain Loss: 3.461 | Train PPL:  31.847\n",
      "\t Val. Loss: 5.588 |  Val. PPL: 267.085\n",
      "Epoch: 06 | Time: 10m 47s\n",
      "\tTrain Loss: 3.185 | Train PPL:  24.177\n",
      "\t Val. Loss: 5.527 |  Val. PPL: 251.334\n",
      "Epoch: 07 | Time: 10m 47s\n",
      "\tTrain Loss: 2.969 | Train PPL:  19.464\n",
      "\t Val. Loss: 5.635 |  Val. PPL: 280.164\n",
      "Epoch: 08 | Time: 10m 47s\n",
      "\tTrain Loss: 2.817 | Train PPL:  16.722\n",
      "\t Val. Loss: 5.605 |  Val. PPL: 271.697\n",
      "Epoch: 09 | Time: 10m 49s\n",
      "\tTrain Loss: 2.692 | Train PPL:  14.766\n",
      "\t Val. Loss: 5.609 |  Val. PPL: 272.798\n",
      "Epoch: 10 | Time: 10m 47s\n",
      "\tTrain Loss: 2.588 | Train PPL:  13.305\n",
      "\t Val. Loss: 5.638 |  Val. PPL: 280.900\n"
     ]
    }
   ],
   "source": [
    "N_EPOCHS = 10\n",
    "CLIP = 1\n",
    "\n",
    "best_valid_loss = float('inf')\n",
    "train_loss_list = []\n",
    "val_loss_list = []\n",
    "for epoch in range(N_EPOCHS):\n",
    "    \n",
    "    start_time = time.time()\n",
    "    \n",
    "    train_loss = train(model, train_iterator, optimizer, criterion, CLIP)\n",
    "    valid_loss = evaluate(model, valid_iterator, criterion)\n",
    "    \n",
    "    end_time = time.time()\n",
    "    \n",
    "    train_loss_list.append(train_loss)\n",
    "    val_loss_list.append(valid_loss)\n",
    "    epoch_mins, epoch_secs = epoch_time(start_time, end_time)\n",
    "    \n",
    "    if valid_loss < best_valid_loss:\n",
    "        best_valid_loss = valid_loss\n",
    "        torch.save(model.state_dict(), 'en_fr-translation_model1.pt')\n",
    "    \n",
    "    print(f'Epoch: {epoch+1:02} | Time: {epoch_mins}m {epoch_secs}s')\n",
    "    print(f'\\tTrain Loss: {train_loss:.3f} | Train PPL: {math.exp(train_loss):7.3f}')\n",
    "    print(f'\\t Val. Loss: {valid_loss:.3f} |  Val. PPL: {math.exp(valid_loss):7.3f}')"
   ]
  },
  {
   "cell_type": "code",
   "execution_count": 36,
   "metadata": {},
   "outputs": [
    {
     "data": {
      "text/plain": [
       "[]"
      ]
     },
     "execution_count": 36,
     "metadata": {},
     "output_type": "execute_result"
    },
    {
     "data": {
      "image/png": "[encoded data removed]",
      "text/plain": [
       "<Figure size 432x288 with 1 Axes>"
      ]
     },
     "metadata": {
      "needs_background": "light"
     },
     "output_type": "display_data"
    }
   ],
   "source": [
    "train_loss_list = [6.173, 5.218, 4.399, 3.829, 3.461, 3.185, 2.969, 2.817, 2.692, 2.588]\n",
    "val_loss_list = [6.428, 5.900, 5.719, 5.598, 5.588, 5.527, 5.635, 5.605, 5.609, 5.638]\n",
    "plt.plot(train_loss_list, label=\"train loss\")\n",
    "plt.plot(val_loss_list, label=\"validation loss\")\n",
    "plt.legend()\n",
    "plt.plot()"
   ]
  },
  {
   "cell_type": "markdown",
   "metadata": {
    "id": "zUIIkJf_12RG"
   },
   "source": [
    "Finally, we test the model on the test set using these \"best\" parameters."
   ]
  },
  {
   "cell_type": "code",
   "execution_count": 100,
   "metadata": {
    "id": "1khPL9aV12RH"
   },
   "outputs": [
    {
     "name": "stdout",
     "output_type": "stream",
     "text": [
      "| Test Loss: 4.636 | Test PPL: 103.093 |\n"
     ]
    }
   ],
   "source": [
    "if device==torch.device(\"cuda\"):\n",
    "    model.load_state_dict(torch.load('en_fr-translation_model1.pt'))\n",
    "else:\n",
    "    model.load_state_dict(torch.load('en_fr-translation_model1.pt', map_location=torch.device('cpu')))\n",
    "\n",
    "test_loss = evaluate(model, test_iterator, criterion)\n",
    "\n",
    "print(f'| Test Loss: {test_loss:.3f} | Test PPL: {math.exp(test_loss):7.3f} |')"
   ]
  },
  {
   "cell_type": "markdown",
   "metadata": {
    "id": "uvLpkSKk8QG1"
   },
   "source": [
    "# Inference :"
   ]
  },
  {
   "cell_type": "markdown",
   "metadata": {
    "id": "3TJImPKu8hKt"
   },
   "source": [
    "## Greedy decoding :"
   ]
  },
  {
   "cell_type": "code",
   "execution_count": 101,
   "metadata": {
    "id": "kV0MLk5B7931"
   },
   "outputs": [],
   "source": [
    "def translate_sentence_greedy(sentence, src_field, trg_field, model, device, max_len = 50):\n",
    "\n",
    "    model.eval()\n",
    "        \n",
    "    if isinstance(sentence, str):\n",
    "        nlp = spacy.load('en')\n",
    "        tokens = [token.text.lower() for token in nlp(sentence)]\n",
    "    else:\n",
    "        tokens = [token.lower() for token in sentence]\n",
    "\n",
    "    tokens = [src_field.init_token] + tokens + [src_field.eos_token]\n",
    "        \n",
    "    src_indexes = [src_field.vocab.stoi[token] for token in tokens]\n",
    "    \n",
    "    src_tensor = torch.LongTensor(src_indexes).unsqueeze(1).to(device)\n",
    "    \n",
    "    with torch.no_grad():\n",
    "        encoder_outputs, hidden = model.encoder(src_tensor)\n",
    "\n",
    "        \n",
    "    trg_indexes = [trg_field.vocab.stoi[trg_field.init_token]]\n",
    "\n",
    "    attentions = torch.zeros(max_len, 1, len(src_indexes)).to(device)\n",
    "    \n",
    "    for i in range(max_len):\n",
    "\n",
    "        trg_tensor = torch.LongTensor([trg_indexes[-1]]).to(device)\n",
    "        with torch.no_grad():\n",
    "            output, hidden, attention = model.decoder(trg_tensor, hidden, encoder_outputs)\n",
    "\n",
    "        attentions[i] = attention\n",
    "            \n",
    "        pred_token = output.argmax(1).item()\n",
    "        trg_indexes.append(pred_token)\n",
    "\n",
    "        if pred_token == trg_field.vocab.stoi[trg_field.eos_token]:\n",
    "            break\n",
    "    trg_tokens = [trg_field.vocab.itos[i] for i in trg_indexes]\n",
    "    \n",
    "    return trg_tokens[1:], attentions[:len(trg_tokens)-1]"
   ]
  },
  {
   "cell_type": "code",
   "execution_count": 102,
   "metadata": {
    "id": "KTDu5GzB8chE"
   },
   "outputs": [],
   "source": [
    "def display_attention(sentence, translation, attention):\n",
    "    \n",
    "    fig = plt.figure(figsize=(10,10))\n",
    "    ax = fig.add_subplot(111)\n",
    "    \n",
    "    attention = attention.squeeze(1).cpu().detach().numpy()\n",
    "    \n",
    "    cax = ax.matshow(attention, cmap='bone')\n",
    "    fig.colorbar(cax)\n",
    "\n",
    "    ax.tick_params(labelsize=15)\n",
    "    ax.set_xticklabels(['']+['<sos>']+[t.lower() for t in sentence]+['<eos>'], \n",
    "                       rotation=45)\n",
    "    ax.set_yticklabels(['']+translation)\n",
    "\n",
    "    ax.xaxis.set_major_locator(ticker.MultipleLocator(1))\n",
    "    ax.yaxis.set_major_locator(ticker.MultipleLocator(1))\n",
    "\n",
    "    plt.show()\n",
    "    plt.close()"
   ]
  },
  {
   "cell_type": "code",
   "execution_count": 40,
   "metadata": {
    "id": "Ouh9OUXk8eom"
   },
   "outputs": [
    {
     "name": "stdout",
     "output_type": "stream",
     "text": [
      "src = why should it work and is this something to do with human beings\n",
      "trg = pourquoi ça devrait marcher et est ce que cela a à voir avec les êtres humains\n",
      "predicted trg = pourquoi devrions ce travail et c est quelque chose avec les humains humains <eos>\n",
      "\n",
      "\n",
      "src = well one line of thinking is let s take this profit and redeploy it into social problems\n",
      "trg = eh bien une façon de voir les choses consiste à dire prenons ce bénéfice et redéployons le vers les problèmes sociaux\n",
      "predicted trg = eh bien une question de pensée est est ce que nous <unk> et ce et et les problèmes sociaux <eos>\n",
      "\n",
      "\n",
      "src = so this cyber sea which we know endlessly is the fundamental piece of radical openness is very much under threat as well\n",
      "trg = cette cyber mer dont nous savons sans cesse qu elle est la pièce fondamentale de la transparence radicale est donc vraiment menacée aussi\n",
      "predicted trg = donc ce mer de ce que nous savons est est est le élément de l radicale radicale est très bien <eos>\n",
      "\n",
      "\n",
      "src = i m talking about people taking and recreating using other people s content using digital technologies to say things differently\n",
      "trg = je parle ici de gens qui prennent du contenu pour en recréer avec les techniques numériques pour dire les choses différemment\n",
      "predicted trg = je parle de gens qui et et et d autres autres autres changent des technologies numériques numériques pour dire différemment différemment <eos>\n",
      "\n",
      "\n",
      "src = start the story with the arrows of the native americans and not with the arrival of the british and you have an entirely different story\n",
      "trg = commencez l histoire par les flèches des américains natifs et non par l arrivée des anglais et vous obtiendrez une histoire complètement différente\n",
      "predicted trg = commencez à l histoire avec les flèches des américains américains et pas avec le le tsunami et vous avez une histoire complètement différente <eos>\n",
      "\n",
      "\n"
     ]
    }
   ],
   "source": [
    "l = random.sample(range(len(train_data)), 5)\n",
    "\n",
    "for example_idx in l:\n",
    "    src = vars(train_data.examples[example_idx])['src']\n",
    "    trg = vars(train_data.examples[example_idx])['trg']\n",
    "    translation, attentiaon = translate_sentence_greedy(src, SRC, TRG, model, device)\n",
    "\n",
    "    print(f'src = {\" \".join(src)}')\n",
    "    print(f'trg = {\" \".join(trg)}')\n",
    "    print(f'predicted trg = {\" \".join(translation)}')\n",
    "    print(\"\\n\")\n"
   ]
  },
  {
   "cell_type": "code",
   "execution_count": 79,
   "metadata": {
    "id": "_b6oP_HC8rAY"
   },
   "outputs": [
    {
     "name": "stdout",
     "output_type": "stream",
     "text": [
      "src = and it s very much an in the moment activity that they re engaged in\n",
      "trg = et ils sont vraiment plongés dans une activité spontanée\n"
     ]
    }
   ],
   "source": [
    "example_idx = 210\n",
    "\n",
    "src = vars(train_data.examples[example_idx])['src']\n",
    "trg = vars(train_data.examples[example_idx])['trg']\n",
    "\n",
    "print(f'src = {\" \".join(src)}')\n",
    "print(f'trg = {\" \".join(trg)}')"
   ]
  },
  {
   "cell_type": "code",
   "execution_count": 80,
   "metadata": {
    "id": "FCoQYoK488_s"
   },
   "outputs": [
    {
     "name": "stdout",
     "output_type": "stream",
     "text": [
      "predicted trg = et c est très dans dans l activité dans laquelle l on s intéressent <eos>\n"
     ]
    }
   ],
   "source": [
    "translation, attentiaon = translate_sentence_greedy(src, SRC, TRG, model, device)\n",
    "\n",
    "print(f'predicted trg = {\" \".join(translation)}')"
   ]
  },
  {
   "cell_type": "code",
   "execution_count": 81,
   "metadata": {},
   "outputs": [
    {
     "data": {
      "image/png": "[encoded data removed]",
      "text/plain": [
       "<Figure size 720x720 with 2 Axes>"
      ]
     },
     "metadata": {
      "needs_background": "light"
     },
     "output_type": "display_data"
    }
   ],
   "source": [
    "display_attention(src, translation, attentiaon)"
   ]
  },
  {
   "cell_type": "code",
   "execution_count": 47,
   "metadata": {},
   "outputs": [
    {
     "name": "stdout",
     "output_type": "stream",
     "text": [
      "src = you know i never thought that i d end up working at microsoft\n",
      "trg = vous savez je n aurais jamais cru que je finirais par travailler chez microsoft\n",
      "predicted trg = vous savez je ne pensais jamais pensé que je commençais à microsoft <eos>\n",
      "\n",
      "\n",
      "src = he doesn t have a piece of paper he doesn t have a pencil he doesn t have a tape recorder\n",
      "trg = il n avait pas de papier pas de crayon il n avait pas de dictaphone\n",
      "predicted trg = il n a pas un morceau de papier il n a pas un crayon il n a pas un un de <eos>\n",
      "\n",
      "\n",
      "src = and as these tools become more physical more aware of their motion aware of each other and aware of the nuance of how we move them we can start to explore some new and fun interaction styles\n",
      "trg = a mesure que ces outils deviennent de plus en plus physiques davantage conscients de leur mouvement de la présence des autres et conscients des nuances dans notre façon de les déplacer on peut commencer à étudier de nouveaux styles d interactions amusants\n",
      "predicted trg = et ces outils deviennent plus plus plus de de leurs sens et l esprit de comment nous nous nous nous commencer à explorer une nouvelle et et de <eos>\n",
      "\n",
      "\n",
      "src = now this level of intuition becomes very important\n",
      "trg = ce niveau d intuition devient primordial\n",
      "predicted trg = maintenant ce niveau de vue devient très important <eos>\n",
      "\n",
      "\n",
      "src = this drying around the world has lead to a dramatic increase in fires\n",
      "trg = cet assèchement global a causé une hausse spectaculaire du nombre d incendies cet assèchement global a causé une hausse spectaculaire du nombre d incendies\n",
      "predicted trg = ce sédiment autour du monde a conduit à un un radical <eos>\n",
      "\n",
      "\n"
     ]
    }
   ],
   "source": [
    "l = random.sample(range(len(valid_data)), 5)\n",
    "\n",
    "for example_idx in l:\n",
    "    src = vars(valid_data.examples[example_idx])['src']\n",
    "    trg = vars(valid_data.examples[example_idx])['trg']\n",
    "    translation, attentiaon = translate_sentence_greedy(src, SRC, TRG, model, device)\n",
    "\n",
    "    print(f'src = {\" \".join(src)}')\n",
    "    print(f'trg = {\" \".join(trg)}')\n",
    "    print(f'predicted trg = {\" \".join(translation)}')\n",
    "    print(\"\\n\")\n"
   ]
  },
  {
   "cell_type": "markdown",
   "metadata": {},
   "source": [
    "### BLUE SCORE\n",
    "\n",
    "Previously we have only cared about the loss/perplexity of the model. However there metrics that are specifically designed for measuring the quality of a translation - the most popular is BLEU. Without going into too much detail, BLEU looks at the overlap in the predicted and actual target sequences in terms of their n-grams. It will give us a number between 0 and 1 for each sequence, where 1 means there is perfect overlap, i.e. a perfect translation, although is usually shown between 0 and 100. BLEU was designed for multiple candidate translations per source sequence, however in this dataset we only have one candidate per source.\n",
    "\n",
    "We define a calculate_bleu function which calculates the BLEU score over a provided target dataset. This function creates a corpus of the actual and predicted translation for each source sentence and then calculates the BLEU score."
   ]
  },
  {
   "cell_type": "code",
   "execution_count": 48,
   "metadata": {},
   "outputs": [],
   "source": [
    "import sacrebleu\n",
    "\n",
    "def calculate_bleu_greedy(data, model, SRC, TRG, device):\n",
    "    \n",
    "    trgs = []\n",
    "    pred_trgs = []\n",
    "    \n",
    "    for i in range(len(data)):\n",
    "        \n",
    "        src = vars(data.examples[i])['src']\n",
    "        trg = vars(data.examples[i])['trg']\n",
    "        output_words, attention = translate_sentence_greedy(src, SRC, TRG, model, device)\n",
    "        #cut off <eos> token\n",
    "        pred_trg = output_words[:-1]\n",
    "        pred_trg_sentence = ' '.join(pred_trg)\n",
    "        pred_trgs.append(pred_trg_sentence)\n",
    "        trgs.append(\" \".join(trg))\n",
    "    \n",
    "    bleu = sacrebleu.corpus_bleu(pred_trgs, [trgs])\n",
    "\n",
    "    return bleu.score"
   ]
  },
  {
   "cell_type": "code",
   "execution_count": 49,
   "metadata": {},
   "outputs": [
    {
     "data": {
      "text/plain": [
       "10.65783110863191"
      ]
     },
     "execution_count": 49,
     "metadata": {},
     "output_type": "execute_result"
    }
   ],
   "source": [
    "calculate_bleu_greedy(valid_data, model, SRC, TRG, device)"
   ]
  },
  {
   "cell_type": "code",
   "execution_count": 50,
   "metadata": {},
   "outputs": [
    {
     "data": {
      "text/plain": [
       "16.98376106679149"
      ]
     },
     "execution_count": 50,
     "metadata": {},
     "output_type": "execute_result"
    }
   ],
   "source": [
    "calculate_bleu_greedy(test_data, model, SRC, TRG, device)"
   ]
  },
  {
   "cell_type": "markdown",
   "metadata": {},
   "source": [
    "## BEAM SEARCH + Length normalisation :"
   ]
  },
  {
   "cell_type": "code",
   "execution_count": 108,
   "metadata": {},
   "outputs": [],
   "source": [
    "from queue import PriorityQueue\n",
    "import operator\n",
    "\n",
    "class BeamSearchNode(object):\n",
    "    def __init__(self, hiddenstate, previousNode, wordId, logProb, length):\n",
    "        '''\n",
    "        :param hiddenstate:\n",
    "        :param previousNode:\n",
    "        :param wordId:\n",
    "        :param logProb:\n",
    "        :param length:\n",
    "        '''\n",
    "        self.h = hiddenstate\n",
    "        self.prevNode = previousNode\n",
    "        self.wordid = wordId\n",
    "        self.logp = logProb\n",
    "        self.leng = length\n",
    "\n",
    "    def eval(self, length_normalisation):\n",
    "\n",
    "        if length_normalisation:\n",
    "            return self.logp / float(self.leng)\n",
    "        else:\n",
    "            return self.logp\n",
    "\n",
    "\n",
    "\n",
    "\n",
    "def beam_decode(model, sentence, src_field, trg_field, length_normalisation=True, beam_width=10, topk=1 ):\n",
    "    '''\n",
    "    :param target_tensor: target indexes tensor of shape [B, T] where B is the batch size and T is the maximum length of the output sentence\n",
    "    :param decoder_hidden: input tensor of shape [1, B, H] for start of the decoding\n",
    "    :param encoder_outputs: if you are using attention mechanism you can pass encoder outputs, [T, B, H] where T is the maximum length of input sentence\n",
    "    :param beam_widh : the width of the beam search\n",
    "    :param topk : how many sentence do you want to generate\n",
    "    :return: decoded_batch\n",
    "    '''\n",
    "\n",
    "    model.eval()\n",
    "        \n",
    "    if isinstance(sentence, str):\n",
    "        nlp = spacy.load('en')\n",
    "        tokens = [token.text.lower() for token in nlp(sentence)]\n",
    "    else:\n",
    "        tokens = [token.lower() for token in sentence]\n",
    "\n",
    "    tokens = [src_field.init_token] + tokens + [src_field.eos_token]\n",
    "        \n",
    "    src_indexes = [src_field.vocab.stoi[token] for token in tokens]\n",
    "    \n",
    "    src_tensor = torch.LongTensor(src_indexes).unsqueeze(1).to(device)\n",
    "    \n",
    "    with torch.no_grad():\n",
    "        encoder_outputs, hidden = model.encoder(src_tensor)\n",
    "\n",
    "       \n",
    "    decoder_input = torch.LongTensor([trg_field.vocab.stoi[trg_field.init_token]]).to(device)\n",
    "    # Number of sentence to generate\n",
    "    endnodes = []\n",
    "    number_required = min((topk + 1), topk - len(endnodes))\n",
    "\n",
    "    # starting node -  hidden vector, previous node, word id, logp, length\n",
    "    node = BeamSearchNode(hidden, None, decoder_input, 0, 1)\n",
    "    nodes = PriorityQueue()\n",
    "\n",
    "    # start the queue\n",
    "    nodes.put((-node.eval(length_normalisation=length_normalisation), node))\n",
    "    qsize = 1\n",
    "    \n",
    "    # start beam search\n",
    "    while True:\n",
    "        # give up when decoding takes too long\n",
    "        if qsize > 2000: break\n",
    "\n",
    "        # fetch the best node\n",
    "        score, n = nodes.get()\n",
    "        decoder_input = n.wordid\n",
    "        decoder_hidden = n.h\n",
    "\n",
    "        if n.wordid.item() == trg_field.vocab.stoi[trg_field.eos_token] and n.prevNode != None:\n",
    "            endnodes.append((score, n))\n",
    "            # if we reached maximum # of sentences required\n",
    "            if len(endnodes) >= number_required:\n",
    "                break\n",
    "            else:\n",
    "                continue\n",
    "\n",
    "        # decode for one step using decoder\n",
    "        with torch.no_grad():\n",
    "            decoder_output, decoder_hidden, attention = model.decoder(decoder_input, decoder_hidden, encoder_outputs)\n",
    "        #decoder_output, decoder_hidden = model.decoder(decoder_input, decoder_hidden.squeeze(0), encoder_output)\n",
    "\n",
    "        # PUT HERE REAL BEAM SEARCH OF TOP\n",
    "        log_prob, indexes = torch.topk(decoder_output, beam_width)\n",
    "        nextnodes = []\n",
    "\n",
    "        for new_k in range(beam_width):\n",
    "            decoded_t = indexes[0][new_k].view(1)\n",
    "            log_p = log_prob[0][new_k].item()\n",
    "\n",
    "            node = BeamSearchNode(decoder_hidden, n, decoded_t, n.logp + log_p, n.leng + 1)\n",
    "            score = -node.eval(length_normalisation=length_normalisation)\n",
    "            nextnodes.append((score, node))\n",
    "\n",
    "        # put them into queue\n",
    "        for i in range(len(nextnodes)):\n",
    "            score, nn = nextnodes[i]\n",
    "            nodes.put((score, nn))\n",
    "            # increase qsize\n",
    "        qsize += len(nextnodes) - 1\n",
    "\n",
    "    # choose nbest paths, back trace them\n",
    "    if len(endnodes) == 0:\n",
    "        endnodes = [nodes.get() for _ in range(topk)]\n",
    "\n",
    "    n_best_sentences = []\n",
    "    for score, n in sorted(endnodes, key=operator.itemgetter(0)):\n",
    "        decoded_sentence_idx = []\n",
    "        decoded_sentence_idx.append(n.wordid.item())\n",
    "        # back trace\n",
    "        while n.prevNode != None:\n",
    "            n = n.prevNode\n",
    "            decoded_sentence_idx.append(n.wordid.item())\n",
    "\n",
    "        decoded_sentence_idx = decoded_sentence_idx[::-1]\n",
    "        decoded_sentence = [trg_field.vocab.itos[i] for i in decoded_sentence_idx]\n",
    "        n_best_sentences.append(decoded_sentence[1:])\n",
    "\n",
    "    return n_best_sentences"
   ]
  },
  {
   "cell_type": "code",
   "execution_count": 85,
   "metadata": {},
   "outputs": [
    {
     "name": "stdout",
     "output_type": "stream",
     "text": [
      "source sentence :  so what does the happiest man in the world look like\n",
      "target sentence :  alors à quoi ressemble l homme le plus heureux du monde\n",
      "beam search decoded sentence :  donc que est le plus heureux du monde ressemble à monde <eos>\n",
      "greedy decoded sentence :  donc que est le plus heureux de monde monde ressemble à monde <eos>\n",
      "\n",
      "\n",
      "source sentence :  and that animated graphics can make a difference\n",
      "target sentence :  et je vous ai dit que les graphiques animés peuvent faire la différence\n",
      "beam search decoded sentence :  et ce tableau graphiques peut peut faire une différence <eos>\n",
      "greedy decoded sentence :  et ce tableau graphiques peut peut faire une différence <eos>\n",
      "\n",
      "\n",
      "source sentence :  this is a deep question\n",
      "target sentence :  c est une question profonde\n",
      "beam search decoded sentence :  c est une question question <eos>\n",
      "greedy decoded sentence :  c est une question question <eos>\n",
      "\n",
      "\n",
      "source sentence :  i had an explosion\n",
      "target sentence :  j avais provoqué une explosion\n",
      "beam search decoded sentence :  j avais une explosion <eos>\n",
      "greedy decoded sentence :  j avais une explosion <eos>\n",
      "\n",
      "\n",
      "source sentence :  and his neighbor steals one of his dung pellets\n",
      "target sentence :  et ce voisin lui vole une de ses boulettes de bouse\n",
      "beam search decoded sentence :  son voisin a attrapé un vélo de ses <eos>\n",
      "greedy decoded sentence :  son voisin a attrapé un vélo de ses <eos>\n",
      "\n",
      "\n"
     ]
    }
   ],
   "source": [
    "l = random.sample(range(len(train_data)), 5)\n",
    "\n",
    "for example_idx in l:\n",
    "    src = vars(train_data.examples[example_idx])['src']\n",
    "    trg = vars(train_data.examples[example_idx])['trg']\n",
    "    print(\"source sentence : \",\" \".join(src))\n",
    "    print(\"target sentence : \",\" \".join(trg))\n",
    "    predicted_beam = beam_decode(model, src, SRC, TRG, length_normalisation=True, beam_width=20, topk=1)\n",
    "    predicted_greedy, _ = translate_sentence_greedy(src, SRC, TRG, model, device)\n",
    "    print(\"beam search decoded sentence : \",\" \".join(predicted_beam[0]))\n",
    "    print(\"greedy decoded sentence : \",\" \".join(predicted_greedy))\n",
    "    print(\"\\n\")\n"
   ]
  },
  {
   "cell_type": "code",
   "execution_count": 86,
   "metadata": {},
   "outputs": [
    {
     "name": "stdout",
     "output_type": "stream",
     "text": [
      "source sentence :  and by the way when i graduated from mit i thought the worst and silliest thing to do would be to go to paris for six years\n",
      "target sentence :  d ailleurs quand j ai eu mon diplôme du mit je pensais que le pire et le plus stupide aurait été d aller à paris pendant six ans\n",
      "beam search decoded sentence :  et quand quand j ai reçu du mit j j ai dit la pire\n",
      "greedy decoded sentence :  et quand quand j ai reçu du mit j ai pensé que la pire et <unk> <unk> et pour aller à paris pour sept ans <eos>\n",
      "\n",
      "\n",
      "source sentence :  and plant\n",
      "target sentence :  et le faire saluer\n",
      "beam search decoded sentence :  et les hôtes <eos>\n",
      "greedy decoded sentence :  et les hôtes <eos>\n",
      "\n",
      "\n",
      "source sentence :  i must confess there s kind of a third motivation as well\n",
      "target sentence :  je dois avouer il y a aussi une troisième motivation\n",
      "beam search decoded sentence :  je dois avouer qu il y a une sorte de motivation <eos>\n",
      "greedy decoded sentence :  je dois avouer qu il y a une sorte de troisième motivation <eos>\n",
      "\n",
      "\n",
      "source sentence :  but now we would like you to put joey through some paces\n",
      "target sentence :  mais maintenant nous aimerions que vous mettiez joey à l épreuve\n",
      "beam search decoded sentence :  mais maintenant nous aimerions qu on va prendre\n",
      "greedy decoded sentence :  mais maintenant nous aimerions que vous mettiez de voler en jouant <eos>\n",
      "\n",
      "\n",
      "source sentence :  now within our community a certain culture has appeared\n",
      "target sentence :  au sein de notre communauté une certaine culture est apparue\n",
      "beam search decoded sentence :  maintenant dans notre communauté de une culture culture <eos>\n",
      "greedy decoded sentence :  maintenant dans notre communauté de une culture a été <eos>\n",
      "\n",
      "\n"
     ]
    }
   ],
   "source": [
    "l = random.sample(range(len(valid_data)), 5)\n",
    "\n",
    "for example_idx in l:\n",
    "    src = vars(train_data.examples[example_idx])['src']\n",
    "    trg = vars(train_data.examples[example_idx])['trg']\n",
    "    print(\"source sentence : \",\" \".join(src))\n",
    "    print(\"target sentence : \",\" \".join(trg))\n",
    "    predicted_beam = beam_decode(model, src, SRC, TRG, length_normalisation=True, beam_width=20, topk=1)\n",
    "    predicted_greedy, _ = translate_sentence_greedy(src, SRC, TRG, model, device)\n",
    "    print(\"beam search decoded sentence : \",\" \".join(predicted_beam[0]))\n",
    "    print(\"greedy decoded sentence : \",\" \".join(predicted_greedy))\n",
    "    print(\"\\n\")\n"
   ]
  },
  {
   "cell_type": "code",
   "execution_count": 92,
   "metadata": {},
   "outputs": [],
   "source": [
    "import sacrebleu\n",
    "def calculate_bleu_beam_search(data, model, SRC, TRG, device, length_normalisation=True, beam_width=20):\n",
    "    \n",
    "    trgs = []\n",
    "    pred_trgs = []\n",
    "    \n",
    "    for i in range(len(data)):\n",
    "        \n",
    "        src = vars(data.examples[i])['src']\n",
    "        #print(src)\n",
    "        trg = vars(data.examples[i])['trg']\n",
    "        try :\n",
    "            output_words = beam_decode(model, src, SRC, TRG, length_normalisation=length_normalisation, \n",
    "                                       beam_width=beam_width, topk=1)\n",
    "            pred_trg = output_words[0][:-1]\n",
    "            #print(pred_trg)\n",
    "            pred_trg_sentence = ' '.join(pred_trg)\n",
    "            pred_trgs.append(pred_trg_sentence)\n",
    "            trgs.append(\" \".join(trg))\n",
    "        except(TypeError):\n",
    "            print(\"pass due to unknown TypeError\")\n",
    "        \n",
    "    \n",
    "    bleu = sacrebleu.corpus_bleu(pred_trgs, [trgs])\n",
    "\n",
    "    return bleu.score"
   ]
  },
  {
   "cell_type": "markdown",
   "metadata": {},
   "source": [
    "### Validation and test score with length penalisation :"
   ]
  },
  {
   "cell_type": "code",
   "execution_count": 104,
   "metadata": {},
   "outputs": [
    {
     "name": "stdout",
     "output_type": "stream",
     "text": [
      "beam width =  10\n",
      "bleu score = 8.83953422570629\n",
      "execution time : 529.6709139347076\n",
      "\n",
      "\n",
      "pass due to unknown TypeError\n",
      "pass due to unknown TypeError\n",
      "beam width =  20\n",
      "bleu score = 8.171279421584828\n",
      "execution time : 332.4088909626007\n",
      "\n",
      "\n",
      "pass due to unknown TypeError\n",
      "pass due to unknown TypeError\n",
      "pass due to unknown TypeError\n",
      "pass due to unknown TypeError\n",
      "pass due to unknown TypeError\n",
      "beam width =  50\n",
      "bleu score = 6.860691991139817\n",
      "execution time : 180.82362031936646\n",
      "\n",
      "\n",
      "pass due to unknown TypeError\n",
      "pass due to unknown TypeError\n",
      "pass due to unknown TypeError\n",
      "pass due to unknown TypeError\n",
      "beam width =  100\n",
      "bleu score = 5.410254378627553\n",
      "execution time : 129.20666193962097\n",
      "\n",
      "\n"
     ]
    }
   ],
   "source": [
    "beam_width_list = [10,20,50,100]\n",
    "for beam_width in beam_width_list:\n",
    "    start_time = time.time()\n",
    "    s = calculate_bleu_beam_search(valid_data, model, SRC, TRG, device, length_normalisation=True, beam_width=beam_width)\n",
    "    end_time = time.time()\n",
    "    print(\"beam width = \",beam_width)\n",
    "    print(\"bleu score =\",s)\n",
    "    print(\"execution time :\",end_time-start_time)\n",
    "    print(\"\\n\")"
   ]
  },
  {
   "cell_type": "code",
   "execution_count": 105,
   "metadata": {},
   "outputs": [
    {
     "name": "stdout",
     "output_type": "stream",
     "text": [
      "beam width =  10\n",
      "bleu score = 15.448628058694181\n",
      "execution time : 437.87719798088074\n",
      "\n",
      "\n",
      "beam width =  20\n",
      "bleu score = 14.918149412532347\n",
      "execution time : 262.2862720489502\n",
      "\n",
      "\n",
      "pass due to unknown TypeError\n",
      "pass due to unknown TypeError\n",
      "pass due to unknown TypeError\n",
      "beam width =  50\n",
      "bleu score = 13.345503964005122\n",
      "execution time : 144.9031901359558\n",
      "\n",
      "\n",
      "pass due to unknown TypeError\n",
      "pass due to unknown TypeError\n",
      "pass due to unknown TypeError\n",
      "pass due to unknown TypeError\n",
      "pass due to unknown TypeError\n",
      "pass due to unknown TypeError\n",
      "pass due to unknown TypeError\n",
      "pass due to unknown TypeError\n",
      "pass due to unknown TypeError\n",
      "pass due to unknown TypeError\n",
      "pass due to unknown TypeError\n",
      "pass due to unknown TypeError\n",
      "pass due to unknown TypeError\n",
      "beam width =  100\n",
      "bleu score = 11.301024687657817\n",
      "execution time : 106.8429479598999\n",
      "\n",
      "\n"
     ]
    }
   ],
   "source": [
    "beam_width_list = [10,20,50,100]\n",
    "for beam_width in beam_width_list:\n",
    "    start_time = time.time()\n",
    "    s = calculate_bleu_beam_search(test_data, model, SRC, TRG, device, length_normalisation=True, beam_width=beam_width)\n",
    "    end_time = time.time()\n",
    "    print(\"beam width = \",beam_width)\n",
    "    print(\"bleu score =\",s)\n",
    "    print(\"execution time :\",end_time-start_time)\n",
    "    print(\"\\n\")"
   ]
  },
  {
   "cell_type": "markdown",
   "metadata": {},
   "source": [
    "### Validation and test score without length penalisation :"
   ]
  },
  {
   "cell_type": "code",
   "execution_count": 106,
   "metadata": {},
   "outputs": [
    {
     "name": "stdout",
     "output_type": "stream",
     "text": [
      "beam width =  10\n",
      "bleu score = 10.644855000201375\n",
      "execution time : 112.03231716156006\n",
      "\n",
      "\n",
      "pass due to unknown TypeError\n",
      "beam width =  20\n",
      "bleu score = 10.65700976630921\n",
      "execution time : 99.52241802215576\n",
      "\n",
      "\n",
      "pass due to unknown TypeError\n",
      "pass due to unknown TypeError\n",
      "pass due to unknown TypeError\n",
      "pass due to unknown TypeError\n",
      "beam width =  50\n",
      "bleu score = 10.666781366584228\n",
      "execution time : 113.8241720199585\n",
      "\n",
      "\n",
      "pass due to unknown TypeError\n",
      "pass due to unknown TypeError\n",
      "pass due to unknown TypeError\n",
      "pass due to unknown TypeError\n",
      "pass due to unknown TypeError\n",
      "pass due to unknown TypeError\n",
      "beam width =  100\n",
      "bleu score = 8.950407712786904\n",
      "execution time : 117.0206310749054\n",
      "\n",
      "\n"
     ]
    }
   ],
   "source": [
    "beam_width_list = [10,20,50,100]\n",
    "for beam_width in beam_width_list:\n",
    "    start_time = time.time()\n",
    "    s = calculate_bleu_beam_search(valid_data, model, SRC, TRG, device, length_normalisation=False, beam_width=beam_width)\n",
    "    end_time = time.time()\n",
    "    print(\"beam width = \",beam_width)\n",
    "    print(\"bleu score =\",s)\n",
    "    print(\"execution time :\",end_time-start_time)\n",
    "    print(\"\\n\")"
   ]
  },
  {
   "cell_type": "code",
   "execution_count": 109,
   "metadata": {},
   "outputs": [
    {
     "name": "stdout",
     "output_type": "stream",
     "text": [
      "beam width =  10\n",
      "bleu score = 16.933839699914913\n",
      "execution time : 89.98872113227844\n",
      "\n",
      "\n",
      "beam width =  20\n",
      "bleu score = 16.96990611340291\n",
      "execution time : 87.48685383796692\n",
      "\n",
      "\n",
      "pass due to unknown TypeError\n",
      "pass due to unknown TypeError\n",
      "beam width =  50\n",
      "bleu score = 16.993190622779284\n",
      "execution time : 93.13923382759094\n",
      "\n",
      "\n",
      "pass due to unknown TypeError\n",
      "pass due to unknown TypeError\n",
      "pass due to unknown TypeError\n",
      "pass due to unknown TypeError\n",
      "pass due to unknown TypeError\n",
      "pass due to unknown TypeError\n",
      "pass due to unknown TypeError\n",
      "pass due to unknown TypeError\n",
      "pass due to unknown TypeError\n",
      "pass due to unknown TypeError\n",
      "beam width =  100\n",
      "bleu score = 15.940887078369652\n",
      "execution time : 99.37949013710022\n",
      "\n",
      "\n"
     ]
    }
   ],
   "source": [
    "beam_width_list = [10,20,50,100]\n",
    "for beam_width in beam_width_list:\n",
    "    start_time = time.time()\n",
    "    s = calculate_bleu_beam_search(test_data, model, SRC, TRG, device, length_normalisation=False, beam_width=beam_width)\n",
    "    end_time = time.time()\n",
    "    print(\"beam width = \",beam_width)\n",
    "    print(\"bleu score =\",s)\n",
    "    print(\"execution time :\",end_time-start_time)\n",
    "    print(\"\\n\")"
   ]
  },
  {
   "cell_type": "code",
   "execution_count": null,
   "metadata": {},
   "outputs": [],
   "source": []
  }
 ],
 "metadata": {
  "accelerator": "GPU",
  "colab": {
   "collapsed_sections": [],
   "name": "SEQ2SEQ_translation_model_TP3_P2.ipynb",
   "provenance": [],
   "toc_visible": true
  },
  "kernelspec": {
   "display_name": "Python 3",
   "language": "python",
   "name": "python3"
  },
  "language_info": {
   "codemirror_mode": {
    "name": "ipython",
    "version": 3
   },
   "file_extension": ".py",
   "mimetype": "text/x-python",
   "name": "python",
   "nbconvert_exporter": "python",
   "pygments_lexer": "ipython3",
   "version": "3.6.7"
  }
 },
 "nbformat": 4,
 "nbformat_minor": 4
}
